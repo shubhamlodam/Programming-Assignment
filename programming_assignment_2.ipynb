{
 "cells": [
  {
   "cell_type": "markdown",
   "id": "e376c1ae",
   "metadata": {},
   "source": [
    "# Programming Assignment 2"
   ]
  },
  {
   "cell_type": "markdown",
   "id": "7bbdeb2c",
   "metadata": {},
   "source": [
    "    1) Write a Python program to convert kilometers to miles?"
   ]
  },
  {
   "cell_type": "code",
   "execution_count": 4,
   "id": "40a94525",
   "metadata": {},
   "outputs": [
    {
     "name": "stdout",
     "output_type": "stream",
     "text": [
      "distance in kilometres : 10\n",
      "\n",
      "distance in Miles :  6.213699999999999\n"
     ]
    }
   ],
   "source": [
    "distance = float(input('distance in kilometres : '))\n",
    "D = distance * 0.62137\n",
    "print()\n",
    "print(\"distance in Miles : \",D)"
   ]
  },
  {
   "cell_type": "markdown",
   "id": "cfdb0328",
   "metadata": {},
   "source": [
    "    2) Write a Python program to convert Celsius to Fahrenheit?"
   ]
  },
  {
   "cell_type": "code",
   "execution_count": 5,
   "id": "92f2409d",
   "metadata": {},
   "outputs": [
    {
     "name": "stdout",
     "output_type": "stream",
     "text": [
      "temperature in celsicus : 42\n",
      "\n",
      "temperature in fahrenheit :  107.60000000000001\n"
     ]
    }
   ],
   "source": [
    "C = float(input(\"temperature in celsicus : \"))\n",
    "F = C * (9/5) + 32\n",
    "print()\n",
    "print(\"temperature in fahrenheit : \",F)"
   ]
  },
  {
   "cell_type": "markdown",
   "id": "f61ab52d",
   "metadata": {},
   "source": [
    "    3) Write a Python program to display calendar?"
   ]
  },
  {
   "cell_type": "code",
   "execution_count": 15,
   "id": "f1676453",
   "metadata": {},
   "outputs": [
    {
     "name": "stdout",
     "output_type": "stream",
     "text": [
      "    August 2022\n",
      "Mo Tu We Th Fr Sa Su\n",
      " 1  2  3  4  5  6  7\n",
      " 8  9 10 11 12 13 14\n",
      "15 16 17 18 19 20 21\n",
      "22 23 24 25 26 27 28\n",
      "29 30 31\n",
      "\n"
     ]
    }
   ],
   "source": [
    "import calendar\n",
    "\n",
    "year = 2022\n",
    "month = 8\n",
    "print(calendar.month(year,month))"
   ]
  },
  {
   "cell_type": "code",
   "execution_count": 14,
   "id": "4284868d",
   "metadata": {},
   "outputs": [
    {
     "name": "stdout",
     "output_type": "stream",
     "text": [
      "                                  2022\n",
      "\n",
      "      January                   February                   March\n",
      "Mo Tu We Th Fr Sa Su      Mo Tu We Th Fr Sa Su      Mo Tu We Th Fr Sa Su\n",
      "                1  2          1  2  3  4  5  6          1  2  3  4  5  6\n",
      " 3  4  5  6  7  8  9       7  8  9 10 11 12 13       7  8  9 10 11 12 13\n",
      "10 11 12 13 14 15 16      14 15 16 17 18 19 20      14 15 16 17 18 19 20\n",
      "17 18 19 20 21 22 23      21 22 23 24 25 26 27      21 22 23 24 25 26 27\n",
      "24 25 26 27 28 29 30      28                        28 29 30 31\n",
      "31\n",
      "\n",
      "       April                      May                       June\n",
      "Mo Tu We Th Fr Sa Su      Mo Tu We Th Fr Sa Su      Mo Tu We Th Fr Sa Su\n",
      "             1  2  3                         1             1  2  3  4  5\n",
      " 4  5  6  7  8  9 10       2  3  4  5  6  7  8       6  7  8  9 10 11 12\n",
      "11 12 13 14 15 16 17       9 10 11 12 13 14 15      13 14 15 16 17 18 19\n",
      "18 19 20 21 22 23 24      16 17 18 19 20 21 22      20 21 22 23 24 25 26\n",
      "25 26 27 28 29 30         23 24 25 26 27 28 29      27 28 29 30\n",
      "                          30 31\n",
      "\n",
      "        July                     August                  September\n",
      "Mo Tu We Th Fr Sa Su      Mo Tu We Th Fr Sa Su      Mo Tu We Th Fr Sa Su\n",
      "             1  2  3       1  2  3  4  5  6  7                1  2  3  4\n",
      " 4  5  6  7  8  9 10       8  9 10 11 12 13 14       5  6  7  8  9 10 11\n",
      "11 12 13 14 15 16 17      15 16 17 18 19 20 21      12 13 14 15 16 17 18\n",
      "18 19 20 21 22 23 24      22 23 24 25 26 27 28      19 20 21 22 23 24 25\n",
      "25 26 27 28 29 30 31      29 30 31                  26 27 28 29 30\n",
      "\n",
      "      October                   November                  December\n",
      "Mo Tu We Th Fr Sa Su      Mo Tu We Th Fr Sa Su      Mo Tu We Th Fr Sa Su\n",
      "                1  2          1  2  3  4  5  6                1  2  3  4\n",
      " 3  4  5  6  7  8  9       7  8  9 10 11 12 13       5  6  7  8  9 10 11\n",
      "10 11 12 13 14 15 16      14 15 16 17 18 19 20      12 13 14 15 16 17 18\n",
      "17 18 19 20 21 22 23      21 22 23 24 25 26 27      19 20 21 22 23 24 25\n",
      "24 25 26 27 28 29 30      28 29 30                  26 27 28 29 30 31\n",
      "31\n",
      "\n"
     ]
    }
   ],
   "source": [
    "import calendar\n",
    "\n",
    "yr = 2022\n",
    "print(calendar.calendar(yr))"
   ]
  },
  {
   "cell_type": "markdown",
   "id": "188b3efa",
   "metadata": {},
   "source": [
    "4) Write a Python program to solve quadratic equation?"
   ]
  },
  {
   "cell_type": "code",
   "execution_count": 35,
   "id": "93eb5de3",
   "metadata": {},
   "outputs": [
    {
     "name": "stdout",
     "output_type": "stream",
     "text": [
      "value of a : 1\n",
      "value of b : 5\n",
      "value of c : 6\n",
      "\n",
      "roots are real and different\n",
      "\n",
      "Both the values of x are -2.0 and -3.0\n"
     ]
    }
   ],
   "source": [
    "# ax2 + bx + c = 0 \n",
    "# coefficient of above equations are a , b, c.\n",
    "a = int(input(\"value of a : \"))\n",
    "b = int(input(\"value of b : \"))\n",
    "c = int(input(\"value of c : \"))\n",
    "print()\n",
    "if b**2 < 4*a*c:\n",
    "    print(\"roots are complex.\")\n",
    "elif b**2 == 4*a*c:\n",
    "    print(\"roots are real and same.\")\n",
    "elif b**2 > 4*a*c:\n",
    "    print(\"roots are real and different\")\n",
    "print()\n",
    "sol1 = (-b + (b**2-4*a*c)**0.5)/(2*a) \n",
    "sol2 = (-b - (b**2-4*a*c)**0.5)/(2*a)\n",
    "print(\"Both the values of x are {0} and {1}\".format(sol1,sol2))        \n"
   ]
  },
  {
   "cell_type": "markdown",
   "id": "886f019f",
   "metadata": {},
   "source": [
    "5) Write a Python program to swap two variables without temp variable?"
   ]
  },
  {
   "cell_type": "code",
   "execution_count": 7,
   "id": "89d08320",
   "metadata": {},
   "outputs": [
    {
     "name": "stdout",
     "output_type": "stream",
     "text": [
      "The value of x is :  5\n",
      "The value of y is :  10\n"
     ]
    }
   ],
   "source": [
    "x = 10\n",
    "y = 5\n",
    "\n",
    "(x,y)=(y,x)      \n",
    "\n",
    "print(\"The value of x is : \",x)\n",
    "print(\"The value of y is : \",y)"
   ]
  },
  {
   "cell_type": "code",
   "execution_count": null,
   "id": "2f3b9d4b",
   "metadata": {},
   "outputs": [],
   "source": []
  }
 ],
 "metadata": {
  "kernelspec": {
   "display_name": "Python 3 (ipykernel)",
   "language": "python",
   "name": "python3"
  },
  "language_info": {
   "codemirror_mode": {
    "name": "ipython",
    "version": 3
   },
   "file_extension": ".py",
   "mimetype": "text/x-python",
   "name": "python",
   "nbconvert_exporter": "python",
   "pygments_lexer": "ipython3",
   "version": "3.9.12"
  }
 },
 "nbformat": 4,
 "nbformat_minor": 5
}
