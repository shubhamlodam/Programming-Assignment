{
 "cells": [
  {
   "cell_type": "markdown",
   "id": "c2837482",
   "metadata": {},
   "source": [
    "# Programming Assignment 4"
   ]
  },
  {
   "cell_type": "markdown",
   "id": "8b4bab17",
   "metadata": {},
   "source": [
    "1) Write a Python Program to Find the Factorial of a Number?"
   ]
  },
  {
   "cell_type": "code",
   "execution_count": 20,
   "id": "6b59b93e",
   "metadata": {},
   "outputs": [
    {
     "name": "stdout",
     "output_type": "stream",
     "text": [
      "Input a number to compute the factiorial : 8\n",
      "\n",
      "Factorial of 8 is 40320\n"
     ]
    }
   ],
   "source": [
    "n=int(input(\"Input a number to compute the factiorial : \"))\n",
    "print()\n",
    "if n == 0 or n ==1:\n",
    "    print(\"Factorial of\",n,\"is\",1)\n",
    "else:\n",
    "    F = n*factorial(n-1)\n",
    "    print(\"Factorial of\",n,\"is\",F)"
   ]
  },
  {
   "cell_type": "markdown",
   "id": "34b40dc8",
   "metadata": {},
   "source": []
  },
  {
   "cell_type": "markdown",
   "id": "f48cf7d6",
   "metadata": {},
   "source": [
    "2) Write a Python Program to Display the multiplication Table?"
   ]
  },
  {
   "cell_type": "code",
   "execution_count": 27,
   "id": "7570cc23",
   "metadata": {},
   "outputs": [
    {
     "name": "stdout",
     "output_type": "stream",
     "text": [
      "enter the number :6\n",
      "6 * 1 = 6\n",
      "6 * 2 = 12\n",
      "6 * 3 = 18\n",
      "6 * 4 = 24\n",
      "6 * 5 = 30\n",
      "6 * 6 = 36\n",
      "6 * 7 = 42\n",
      "6 * 8 = 48\n",
      "6 * 9 = 54\n",
      "6 * 10 = 60\n"
     ]
    }
   ],
   "source": [
    "n = int(input('enter the number :'))\n",
    "a = 1\n",
    "while a <=10:\n",
    "    product = n * a\n",
    "    print(n,'*',a,'=',product)\n",
    "    a = a + 1"
   ]
  },
  {
   "cell_type": "markdown",
   "id": "27421a54",
   "metadata": {},
   "source": []
  },
  {
   "cell_type": "markdown",
   "id": "11a57cf7",
   "metadata": {},
   "source": [
    "3) Write a Python Program to Print the Fibonacci sequence?"
   ]
  },
  {
   "cell_type": "code",
   "execution_count": 4,
   "id": "064abcd7",
   "metadata": {},
   "outputs": [
    {
     "name": "stdout",
     "output_type": "stream",
     "text": [
      "upto term : 10\n",
      "\n",
      "Fibonacci sequence:\n",
      "0\n",
      "1\n",
      "1\n",
      "2\n",
      "3\n",
      "5\n",
      "8\n",
      "13\n",
      "21\n",
      "34\n"
     ]
    }
   ],
   "source": [
    "n = int(input(\"upto term : \"))\n",
    "print()\n",
    "\n",
    "n1= 0\n",
    "n2 = 1\n",
    "\n",
    "if n <= 0:\n",
    "   print(\"Please enter a positive integer\")\n",
    "\n",
    "elif n == 1:\n",
    "   print(\"Fibonacci sequence :\")\n",
    "   print(n1)\n",
    "    \n",
    "else:\n",
    "    print(\"Fibonacci sequence:\")\n",
    "    for i in range(n):\n",
    "        print(n1)\n",
    "        nth = n1 + n2\n",
    "        n1 = n2\n",
    "        n2 = nth\n"
   ]
  },
  {
   "cell_type": "markdown",
   "id": "a407e731",
   "metadata": {},
   "source": []
  },
  {
   "cell_type": "markdown",
   "id": "d5a6ab83",
   "metadata": {},
   "source": [
    "4) Write a Python Program to Check Armstrong Number?"
   ]
  },
  {
   "cell_type": "code",
   "execution_count": 15,
   "id": "9b77dc83",
   "metadata": {},
   "outputs": [
    {
     "name": "stdout",
     "output_type": "stream",
     "text": [
      "Enter a number: 153\n",
      "153 is an Armstrong number\n"
     ]
    }
   ],
   "source": [
    "n = int(input(\"Enter a number: \"))\n",
    "sum = 0\n",
    "temp = n\n",
    "while temp > 0:\n",
    "   digit = temp % 10\n",
    "   sum = sum + digit ** 3\n",
    "   temp = temp// 10\n",
    "if n == sum:\n",
    "   print(n,\"is an Armstrong number\")\n",
    "else:\n",
    "   print(n,\"is not an Armstrong number\")"
   ]
  },
  {
   "cell_type": "markdown",
   "id": "adad0e59",
   "metadata": {},
   "source": []
  },
  {
   "cell_type": "markdown",
   "id": "75a0e2e3",
   "metadata": {},
   "source": [
    "5) Write a Python Program to Find Armstrong Number in an Interval"
   ]
  },
  {
   "cell_type": "code",
   "execution_count": 25,
   "id": "1d07e338",
   "metadata": {},
   "outputs": [
    {
     "name": "stdout",
     "output_type": "stream",
     "text": [
      "153\n",
      "370\n",
      "371\n",
      "407\n",
      "1634\n",
      "8208\n",
      "9474\n"
     ]
    }
   ],
   "source": [
    "lower = 10\n",
    "upper = 10000\n",
    "for n in range(lower, upper + 1):\n",
    "   order = len(str(n))\n",
    "   sum = 0\n",
    "\n",
    "   temp = n\n",
    "   while temp > 0:\n",
    "       digit = temp % 10\n",
    "       sum += digit ** order\n",
    "       temp //= 10\n",
    "\n",
    "   if n == sum:\n",
    "       print(n)"
   ]
  },
  {
   "cell_type": "markdown",
   "id": "3229773b",
   "metadata": {},
   "source": []
  },
  {
   "cell_type": "markdown",
   "id": "313cfa8e",
   "metadata": {},
   "source": [
    "6) Write a Python Program to Find the Sum of Natural Numbers?"
   ]
  },
  {
   "cell_type": "code",
   "execution_count": 32,
   "id": "e43295d7",
   "metadata": {},
   "outputs": [
    {
     "name": "stdout",
     "output_type": "stream",
     "text": [
      "Enter the number : 15\n",
      "The sum is 120\n"
     ]
    }
   ],
   "source": [
    "n = int(input(\"Enter the number : \"))\n",
    "sum = 0\n",
    "if n < 0:\n",
    "   print(\"Enter a positive number\")\n",
    "else:\n",
    "    for i in range(n,0,-1):\n",
    "        sum = sum + i\n",
    "    print(\"The sum is\", sum)\n"
   ]
  },
  {
   "cell_type": "markdown",
   "id": "c04a2750",
   "metadata": {},
   "source": []
  }
 ],
 "metadata": {
  "kernelspec": {
   "display_name": "Python 3 (ipykernel)",
   "language": "python",
   "name": "python3"
  },
  "language_info": {
   "codemirror_mode": {
    "name": "ipython",
    "version": 3
   },
   "file_extension": ".py",
   "mimetype": "text/x-python",
   "name": "python",
   "nbconvert_exporter": "python",
   "pygments_lexer": "ipython3",
   "version": "3.9.12"
  }
 },
 "nbformat": 4,
 "nbformat_minor": 5
}
