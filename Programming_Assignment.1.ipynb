{
 "cells": [
  {
   "cell_type": "markdown",
   "id": "a0d3fee6",
   "metadata": {},
   "source": [
    "# Programming Assignment : 1"
   ]
  },
  {
   "cell_type": "markdown",
   "id": "238759cf",
   "metadata": {},
   "source": [
    "1. Write a Python program to print \"Hello Python\"?"
   ]
  },
  {
   "cell_type": "code",
   "execution_count": 1,
   "id": "2e3d3535",
   "metadata": {},
   "outputs": [
    {
     "name": "stdout",
     "output_type": "stream",
     "text": [
      "Hello Python\n"
     ]
    }
   ],
   "source": [
    "s = \"Hello Python\"\n",
    "print(s)"
   ]
  },
  {
   "cell_type": "raw",
   "id": "bfe76d0d",
   "metadata": {},
   "source": []
  },
  {
   "cell_type": "markdown",
   "id": "6e1ae5ae",
   "metadata": {},
   "source": [
    "2. Write a Python program to do arithmetical operations addition and division.?"
   ]
  },
  {
   "cell_type": "code",
   "execution_count": 3,
   "id": "35cb75b6",
   "metadata": {},
   "outputs": [
    {
     "name": "stdout",
     "output_type": "stream",
     "text": [
      "Enter the 1st value : 1.44\n",
      "Enter the 2nd value : 0.12\n",
      "\n",
      "Addition :  1.56\n",
      "Division :  12.0\n"
     ]
    }
   ],
   "source": [
    "a = float(input(\"Enter the 1st value : \"))\n",
    "b = float(input(\"Enter the 2nd value : \"))\n",
    "print()\n",
    "Addition = a + b\n",
    "print(\"Addition : \", Addition)\n",
    "Division = a//b\n",
    "print(\"Division : \", Division)"
   ]
  },
  {
   "cell_type": "raw",
   "id": "5accdb35",
   "metadata": {},
   "source": []
  },
  {
   "cell_type": "markdown",
   "id": "ec5cad02",
   "metadata": {},
   "source": [
    "3. Write a Python program to find the area of a triangle?"
   ]
  },
  {
   "cell_type": "code",
   "execution_count": 3,
   "id": "6b34deec",
   "metadata": {},
   "outputs": [
    {
     "name": "stdout",
     "output_type": "stream",
     "text": [
      "Enter the value of 1st side : 3\n",
      "Enter the value of 2nd side : 4\n",
      "Enter the value of 3rd side : 5\n",
      "\n",
      "Area of a Trangle :  6.0\n"
     ]
    }
   ],
   "source": [
    "p = float(input(\"Enter the value of 1st side : \"))\n",
    "q = float(input(\"Enter the value of 2nd side : \"))\n",
    "r = float(input(\"Enter the value of 3rd side : \"))\n",
    "s = (p + q + r)/2                    # (s = semi-perimeter of a triangle)\n",
    "A = (s*(s-p)*(s-q)*(s-r)) ** 0.5     # Heron's Formula\n",
    "print()\n",
    "print(\"Area of a Trangle : \", A)\n"
   ]
  },
  {
   "cell_type": "raw",
   "id": "e80b4f7c",
   "metadata": {},
   "source": []
  },
  {
   "cell_type": "markdown",
   "id": "b7b67f18",
   "metadata": {},
   "source": [
    "4. Write a Python program to swap two variables?"
   ]
  },
  {
   "cell_type": "code",
   "execution_count": 6,
   "id": "6b46c4f9",
   "metadata": {},
   "outputs": [
    {
     "name": "stdout",
     "output_type": "stream",
     "text": [
      "The value of x is :  5\n",
      "The value of y is :  4\n"
     ]
    }
   ],
   "source": [
    "x = 4\n",
    "y = 5\n",
    "\n",
    "(x,y)=(y,x)       # swapping the values of both variables \n",
    "\n",
    "print(\"The value of x is : \",x)\n",
    "print(\"The value of y is : \",y)"
   ]
  },
  {
   "cell_type": "raw",
   "id": "bab3e323",
   "metadata": {},
   "source": []
  },
  {
   "cell_type": "markdown",
   "id": "fb60deff",
   "metadata": {},
   "source": [
    "5. Write a Python program to generate a random number?"
   ]
  },
  {
   "cell_type": "code",
   "execution_count": 10,
   "id": "fd1101f8",
   "metadata": {},
   "outputs": [
    {
     "name": "stdout",
     "output_type": "stream",
     "text": [
      "62\n"
     ]
    }
   ],
   "source": [
    "import random\n",
    "print(random.randint(0,100))"
   ]
  },
  {
   "cell_type": "raw",
   "id": "e1467c02",
   "metadata": {},
   "source": []
  }
 ],
 "metadata": {
  "kernelspec": {
   "display_name": "Python 3 (ipykernel)",
   "language": "python",
   "name": "python3"
  },
  "language_info": {
   "codemirror_mode": {
    "name": "ipython",
    "version": 3
   },
   "file_extension": ".py",
   "mimetype": "text/x-python",
   "name": "python",
   "nbconvert_exporter": "python",
   "pygments_lexer": "ipython3",
   "version": "3.9.12"
  }
 },
 "nbformat": 4,
 "nbformat_minor": 5
}
